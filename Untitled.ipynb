{
 "cells": [
  {
   "cell_type": "code",
   "execution_count": 2,
   "id": "0591d1af",
   "metadata": {},
   "outputs": [],
   "source": [
    "import pandas as pd\n",
    "import numpy as np\n",
    "import seaborn as sns\n",
    "import matplotlib.pyplot as plt"
   ]
  },
  {
   "cell_type": "code",
   "execution_count": 3,
   "id": "b686b28a",
   "metadata": {},
   "outputs": [],
   "source": [
    "df = pd.read_csv('train.csv')"
   ]
  },
  {
   "cell_type": "code",
   "execution_count": 4,
   "id": "1f755a0c",
   "metadata": {},
   "outputs": [
    {
     "data": {
      "text/html": [
       "<div>\n",
       "<style scoped>\n",
       "    .dataframe tbody tr th:only-of-type {\n",
       "        vertical-align: middle;\n",
       "    }\n",
       "\n",
       "    .dataframe tbody tr th {\n",
       "        vertical-align: top;\n",
       "    }\n",
       "\n",
       "    .dataframe thead th {\n",
       "        text-align: right;\n",
       "    }\n",
       "</style>\n",
       "<table border=\"1\" class=\"dataframe\">\n",
       "  <thead>\n",
       "    <tr style=\"text-align: right;\">\n",
       "      <th></th>\n",
       "      <th>id</th>\n",
       "      <th>qid1</th>\n",
       "      <th>qid2</th>\n",
       "      <th>question1</th>\n",
       "      <th>question2</th>\n",
       "      <th>is_duplicate</th>\n",
       "    </tr>\n",
       "  </thead>\n",
       "  <tbody>\n",
       "    <tr>\n",
       "      <th>0</th>\n",
       "      <td>0</td>\n",
       "      <td>1</td>\n",
       "      <td>2</td>\n",
       "      <td>What is the step by step guide to invest in sh...</td>\n",
       "      <td>What is the step by step guide to invest in sh...</td>\n",
       "      <td>0</td>\n",
       "    </tr>\n",
       "    <tr>\n",
       "      <th>1</th>\n",
       "      <td>1</td>\n",
       "      <td>3</td>\n",
       "      <td>4</td>\n",
       "      <td>What is the story of Kohinoor (Koh-i-Noor) Dia...</td>\n",
       "      <td>What would happen if the Indian government sto...</td>\n",
       "      <td>0</td>\n",
       "    </tr>\n",
       "    <tr>\n",
       "      <th>2</th>\n",
       "      <td>2</td>\n",
       "      <td>5</td>\n",
       "      <td>6</td>\n",
       "      <td>How can I increase the speed of my internet co...</td>\n",
       "      <td>How can Internet speed be increased by hacking...</td>\n",
       "      <td>0</td>\n",
       "    </tr>\n",
       "    <tr>\n",
       "      <th>3</th>\n",
       "      <td>3</td>\n",
       "      <td>7</td>\n",
       "      <td>8</td>\n",
       "      <td>Why am I mentally very lonely? How can I solve...</td>\n",
       "      <td>Find the remainder when [math]23^{24}[/math] i...</td>\n",
       "      <td>0</td>\n",
       "    </tr>\n",
       "    <tr>\n",
       "      <th>4</th>\n",
       "      <td>4</td>\n",
       "      <td>9</td>\n",
       "      <td>10</td>\n",
       "      <td>Which one dissolve in water quikly sugar, salt...</td>\n",
       "      <td>Which fish would survive in salt water?</td>\n",
       "      <td>0</td>\n",
       "    </tr>\n",
       "  </tbody>\n",
       "</table>\n",
       "</div>"
      ],
      "text/plain": [
       "   id  qid1  qid2                                          question1  \\\n",
       "0   0     1     2  What is the step by step guide to invest in sh...   \n",
       "1   1     3     4  What is the story of Kohinoor (Koh-i-Noor) Dia...   \n",
       "2   2     5     6  How can I increase the speed of my internet co...   \n",
       "3   3     7     8  Why am I mentally very lonely? How can I solve...   \n",
       "4   4     9    10  Which one dissolve in water quikly sugar, salt...   \n",
       "\n",
       "                                           question2  is_duplicate  \n",
       "0  What is the step by step guide to invest in sh...             0  \n",
       "1  What would happen if the Indian government sto...             0  \n",
       "2  How can Internet speed be increased by hacking...             0  \n",
       "3  Find the remainder when [math]23^{24}[/math] i...             0  \n",
       "4            Which fish would survive in salt water?             0  "
      ]
     },
     "execution_count": 4,
     "metadata": {},
     "output_type": "execute_result"
    }
   ],
   "source": [
    "df.head()"
   ]
  },
  {
   "cell_type": "code",
   "execution_count": 5,
   "id": "069b1913",
   "metadata": {},
   "outputs": [
    {
     "data": {
      "text/html": [
       "<div>\n",
       "<style scoped>\n",
       "    .dataframe tbody tr th:only-of-type {\n",
       "        vertical-align: middle;\n",
       "    }\n",
       "\n",
       "    .dataframe tbody tr th {\n",
       "        vertical-align: top;\n",
       "    }\n",
       "\n",
       "    .dataframe thead th {\n",
       "        text-align: right;\n",
       "    }\n",
       "</style>\n",
       "<table border=\"1\" class=\"dataframe\">\n",
       "  <thead>\n",
       "    <tr style=\"text-align: right;\">\n",
       "      <th></th>\n",
       "      <th>id</th>\n",
       "      <th>qid1</th>\n",
       "      <th>qid2</th>\n",
       "      <th>question1</th>\n",
       "      <th>question2</th>\n",
       "      <th>is_duplicate</th>\n",
       "    </tr>\n",
       "  </thead>\n",
       "  <tbody>\n",
       "    <tr>\n",
       "      <th>232267</th>\n",
       "      <td>232267</td>\n",
       "      <td>342255</td>\n",
       "      <td>342256</td>\n",
       "      <td>Why would an Indian girl not want to get married?</td>\n",
       "      <td>Why do most Indian girls not want to marry the...</td>\n",
       "      <td>0</td>\n",
       "    </tr>\n",
       "    <tr>\n",
       "      <th>176814</th>\n",
       "      <td>176814</td>\n",
       "      <td>271945</td>\n",
       "      <td>229120</td>\n",
       "      <td>How do you stop thinking about your lover?</td>\n",
       "      <td>How can I stop thinking about it?</td>\n",
       "      <td>0</td>\n",
       "    </tr>\n",
       "    <tr>\n",
       "      <th>365524</th>\n",
       "      <td>365524</td>\n",
       "      <td>495641</td>\n",
       "      <td>495642</td>\n",
       "      <td>What's the purpose of a protective tariff? Wha...</td>\n",
       "      <td>What's the purpose of a protective tariff?</td>\n",
       "      <td>0</td>\n",
       "    </tr>\n",
       "    <tr>\n",
       "      <th>266891</th>\n",
       "      <td>266891</td>\n",
       "      <td>384139</td>\n",
       "      <td>145516</td>\n",
       "      <td>Where can I get a PDF/Ebook of Arun Sharma's D...</td>\n",
       "      <td>Where can I get the book of logical reasoning ...</td>\n",
       "      <td>0</td>\n",
       "    </tr>\n",
       "    <tr>\n",
       "      <th>355310</th>\n",
       "      <td>355310</td>\n",
       "      <td>484532</td>\n",
       "      <td>484533</td>\n",
       "      <td>What is a servo mechanism?</td>\n",
       "      <td>What is servo mechanism?</td>\n",
       "      <td>1</td>\n",
       "    </tr>\n",
       "    <tr>\n",
       "      <th>348181</th>\n",
       "      <td>348181</td>\n",
       "      <td>476718</td>\n",
       "      <td>476719</td>\n",
       "      <td>What adds value to an MBA finance graduate?</td>\n",
       "      <td>What value does a CFA degree add to an MBA in ...</td>\n",
       "      <td>0</td>\n",
       "    </tr>\n",
       "    <tr>\n",
       "      <th>40167</th>\n",
       "      <td>40167</td>\n",
       "      <td>72707</td>\n",
       "      <td>47051</td>\n",
       "      <td>What is your favorite movies of all times?</td>\n",
       "      <td>Which one is your favorite movie?</td>\n",
       "      <td>1</td>\n",
       "    </tr>\n",
       "    <tr>\n",
       "      <th>197392</th>\n",
       "      <td>197392</td>\n",
       "      <td>298334</td>\n",
       "      <td>298335</td>\n",
       "      <td>How far is 90,000 steps (in miles)?</td>\n",
       "      <td>How far is 30,000 miles?</td>\n",
       "      <td>0</td>\n",
       "    </tr>\n",
       "    <tr>\n",
       "      <th>74803</th>\n",
       "      <td>74803</td>\n",
       "      <td>128130</td>\n",
       "      <td>40225</td>\n",
       "      <td>What's the difference between Sociopaths and P...</td>\n",
       "      <td>What's the difference between a psychopath and...</td>\n",
       "      <td>1</td>\n",
       "    </tr>\n",
       "    <tr>\n",
       "      <th>20207</th>\n",
       "      <td>20207</td>\n",
       "      <td>38146</td>\n",
       "      <td>15970</td>\n",
       "      <td>How do I apply for pan card in bank?</td>\n",
       "      <td>How do I apply for PAN Card?</td>\n",
       "      <td>1</td>\n",
       "    </tr>\n",
       "  </tbody>\n",
       "</table>\n",
       "</div>"
      ],
      "text/plain": [
       "            id    qid1    qid2  \\\n",
       "232267  232267  342255  342256   \n",
       "176814  176814  271945  229120   \n",
       "365524  365524  495641  495642   \n",
       "266891  266891  384139  145516   \n",
       "355310  355310  484532  484533   \n",
       "348181  348181  476718  476719   \n",
       "40167    40167   72707   47051   \n",
       "197392  197392  298334  298335   \n",
       "74803    74803  128130   40225   \n",
       "20207    20207   38146   15970   \n",
       "\n",
       "                                                question1  \\\n",
       "232267  Why would an Indian girl not want to get married?   \n",
       "176814         How do you stop thinking about your lover?   \n",
       "365524  What's the purpose of a protective tariff? Wha...   \n",
       "266891  Where can I get a PDF/Ebook of Arun Sharma's D...   \n",
       "355310                         What is a servo mechanism?   \n",
       "348181        What adds value to an MBA finance graduate?   \n",
       "40167          What is your favorite movies of all times?   \n",
       "197392                How far is 90,000 steps (in miles)?   \n",
       "74803   What's the difference between Sociopaths and P...   \n",
       "20207                How do I apply for pan card in bank?   \n",
       "\n",
       "                                                question2  is_duplicate  \n",
       "232267  Why do most Indian girls not want to marry the...             0  \n",
       "176814                  How can I stop thinking about it?             0  \n",
       "365524         What's the purpose of a protective tariff?             0  \n",
       "266891  Where can I get the book of logical reasoning ...             0  \n",
       "355310                           What is servo mechanism?             1  \n",
       "348181  What value does a CFA degree add to an MBA in ...             0  \n",
       "40167                   Which one is your favorite movie?             1  \n",
       "197392                           How far is 30,000 miles?             0  \n",
       "74803   What's the difference between a psychopath and...             1  \n",
       "20207                        How do I apply for PAN Card?             1  "
      ]
     },
     "execution_count": 5,
     "metadata": {},
     "output_type": "execute_result"
    }
   ],
   "source": [
    "df.sample(10)"
   ]
  },
  {
   "cell_type": "code",
   "execution_count": 6,
   "id": "1faf1246",
   "metadata": {},
   "outputs": [
    {
     "data": {
      "text/plain": [
       "id              0\n",
       "qid1            0\n",
       "qid2            0\n",
       "question1       1\n",
       "question2       2\n",
       "is_duplicate    0\n",
       "dtype: int64"
      ]
     },
     "execution_count": 6,
     "metadata": {},
     "output_type": "execute_result"
    }
   ],
   "source": [
    "df.isnull().sum()"
   ]
  },
  {
   "cell_type": "code",
   "execution_count": 7,
   "id": "3d6fb205",
   "metadata": {},
   "outputs": [
    {
     "data": {
      "text/plain": [
       "0"
      ]
     },
     "execution_count": 7,
     "metadata": {},
     "output_type": "execute_result"
    }
   ],
   "source": [
    "df.duplicated().sum()"
   ]
  },
  {
   "cell_type": "code",
   "execution_count": 26,
   "id": "98164609",
   "metadata": {},
   "outputs": [
    {
     "name": "stdout",
     "output_type": "stream",
     "text": [
      "is_duplicate\n",
      "0    255027\n",
      "1    149263\n",
      "Name: count, dtype: int64\n",
      "is_duplicate\n",
      "0    63.080215\n",
      "1    36.919785\n",
      "Name: count, dtype: float64\n"
     ]
    },
    {
     "data": {
      "text/plain": [
       "<Axes: xlabel='is_duplicate'>"
      ]
     },
     "execution_count": 26,
     "metadata": {},
     "output_type": "execute_result"
    },
    {
     "data": {
      "image/png": "[encoded data removed]",
      "text/plain": [
       "<Figure size 640x480 with 1 Axes>"
      ]
     },
     "metadata": {},
     "output_type": "display_data"
    }
   ],
   "source": [
    "print(df['is_duplicate'].value_counts())\n",
    "print((df['is_duplicate'].value_counts()/df['is_duplicate'].count())*100)\n",
    "df['is_duplicate'].value_counts().plot(kind='bar')"
   ]
  },
  {
   "cell_type": "code",
   "execution_count": 35,
   "id": "4887a162",
   "metadata": {},
   "outputs": [
    {
     "name": "stdout",
     "output_type": "stream",
     "text": [
      "is_duplicate\n",
      "0    255027\n",
      "1    149263\n",
      "Name: count, dtype: int64\n",
      "659317\n"
     ]
    }
   ],
   "source": [
    "#total number of question \n",
    "df.head()\n",
    "print(df['is_duplicate'].value_counts())\n",
    "print(df['is_duplicate'].value_counts()[0]*2+df['is_duplicate'].value_counts()[1])"
   ]
  },
  {
   "cell_type": "code",
   "execution_count": 46,
   "id": "0f266a7f",
   "metadata": {},
   "outputs": [
    {
     "name": "stdout",
     "output_type": "stream",
     "text": [
      "no of unique questions 537933\n",
      "no of question getting repeated 111780\n"
     ]
    }
   ],
   "source": [
    "df.head()\n",
    "qid = pd.Series(df['qid1'].tolist() + df['qid2'].tolist())\n",
    "print('no of unique questions',np.unique(qid).shape[0])\n",
    "x= qid.value_counts()>1\n",
    "print('no of question getting repeated',x[x].shape[0])"
   ]
  },
  {
   "cell_type": "code",
   "execution_count": 49,
   "id": "11a28dd5",
   "metadata": {},
   "outputs": [
    {
     "data": {
      "image/png": "[encoded data removed]",
      "text/plain": [
       "<Figure size 640x480 with 1 Axes>"
      ]
     },
     "metadata": {},
     "output_type": "display_data"
    }
   ],
   "source": [
    "plt.hist(qid.value_counts().values,bins=100)\n",
    "plt.yscale('log')\n",
    "plt.show()"
   ]
  },
  {
   "cell_type": "code",
   "execution_count": null,
   "id": "716fb585",
   "metadata": {},
   "outputs": [],
   "source": []
  }
 ],
 "metadata": {
  "kernelspec": {
   "display_name": "Python 3 (ipykernel)",
   "language": "python",
   "name": "python3"
  },
  "language_info": {
   "codemirror_mode": {
    "name": "ipython",
    "version": 3
   },
   "file_extension": ".py",
   "mimetype": "text/x-python",
   "name": "python",
   "nbconvert_exporter": "python",
   "pygments_lexer": "ipython3",
   "version": "3.11.7"
  }
 },
 "nbformat": 4,
 "nbformat_minor": 5
}
