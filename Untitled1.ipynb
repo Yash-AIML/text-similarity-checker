{
 "cells": [
  {
   "cell_type": "code",
   "execution_count": 4,
   "id": "c2ae0845",
   "metadata": {},
   "outputs": [
    {
     "name": "stderr",
     "output_type": "stream",
     "text": [
      "[nltk_data] Downloading package stopwords to\n",
      "[nltk_data]     C:\\Users\\ADMIN\\AppData\\Roaming\\nltk_data...\n",
      "[nltk_data]   Package stopwords is already up-to-date!\n"
     ]
    },
    {
     "name": "stdout",
     "output_type": "stream",
     "text": [
      "F1 Score: 0.5686\n",
      "Accuracy: 0.6785\n",
      "{'similarity_score': 0.4999999999999999, 'predicted_label': 1}\n"
     ]
    },
    {
     "name": "stderr",
     "output_type": "stream",
     "text": [
      "C:\\Users\\ADMIN\\anaconda3\\Lib\\site-packages\\sklearn\\base.py:439: UserWarning: X does not have valid feature names, but RandomForestClassifier was fitted with feature names\n",
      "  warnings.warn(\n"
     ]
    }
   ],
   "source": [
    "import pandas as pd\n",
    "import numpy as np\n",
    "from sklearn.ensemble import RandomForestClassifier\n",
    "from sklearn.model_selection import train_test_split\n",
    "from sklearn.metrics import f1_score, accuracy_score\n",
    "from sklearn.feature_extraction.text import CountVectorizer\n",
    "import nltk\n",
    "import string\n",
    "\n",
    "# Download NLTK stopwords (do this outside loop or .py file the first time)\n",
    "nltk.download('stopwords')\n",
    "from nltk.corpus import stopwords\n",
    "\n",
    "# Load only the first 30,000 rows from CSV\n",
    "df = pd.read_csv('train.csv', nrows=30000)\n",
    "\n",
    "# Preprocess function\n",
    "def clean_text(text):\n",
    "    stop_words = set(stopwords.words('english'))\n",
    "    text = text.lower()\n",
    "    text = ''.join([c for c in text if c not in string.punctuation])\n",
    "    return ' '.join([w for w in text.split() if w not in stop_words])\n",
    "\n",
    "df['q1_clean'] = df['question1'].astype(str).apply(clean_text)\n",
    "df['q2_clean'] = df['question2'].astype(str).apply(clean_text)\n",
    "\n",
    "# Feature engineering\n",
    "def jaccard_similarity(str1, str2):\n",
    "    a = set(str1.split())\n",
    "    b = set(str2.split())\n",
    "    if len(a.union(b)) == 0:\n",
    "        return 0\n",
    "    return float(len(a.intersection(b)) / len(a.union(b)))\n",
    "\n",
    "def word_share_ratio(str1, str2):\n",
    "    a = set(str1.split())\n",
    "    b = set(str2.split())\n",
    "    if len(a) == 0:\n",
    "        return 0\n",
    "    return float(len(a.intersection(b)) / len(a))\n",
    "\n",
    "features = pd.DataFrame()\n",
    "features['jaccard'] = df.apply(lambda x: jaccard_similarity(x['q1_clean'], x['q2_clean']), axis=1)\n",
    "features['len_diff'] = abs(df['q1_clean'].apply(len) - df['q2_clean'].apply(len))\n",
    "features['word_share'] = df.apply(lambda x: word_share_ratio(x['q1_clean'], x['q2_clean']), axis=1)\n",
    "\n",
    "# Bag-of-Words similarity (cosine similarity between vectors)\n",
    "vectorizer = CountVectorizer().fit(df['q1_clean'].tolist() + df['q2_clean'].tolist())\n",
    "q1_vec = vectorizer.transform(df['q1_clean'])\n",
    "q2_vec = vectorizer.transform(df['q2_clean'])\n",
    "from sklearn.metrics.pairwise import cosine_similarity\n",
    "features['bow_cosine'] = [cosine_similarity(q1_vec[i], q2_vec[i])[0, 0] for i in range(q1_vec.shape[0])]\n",
    "\n",
    "# Prepare Data\n",
    "y = df['is_duplicate']\n",
    "X_train, X_test, y_train, y_test = train_test_split(features, y, test_size=0.2, random_state=42)\n",
    "\n",
    "# Model Training\n",
    "clf = RandomForestClassifier(n_estimators=100, random_state=42)\n",
    "clf.fit(X_train, y_train)\n",
    "y_pred = clf.predict(X_test)\n",
    "\n",
    "# Evaluation\n",
    "f1 = f1_score(y_test, y_pred)\n",
    "acc = accuracy_score(y_test, y_pred)\n",
    "print(f'F1 Score: {f1:.4f}')\n",
    "print(f'Accuracy: {acc:.4f}')\n",
    "\n",
    "# Prediction function\n",
    "def predict_similarity_ml(q1, q2):\n",
    "    c1 = clean_text(q1)\n",
    "    c2 = clean_text(q2)\n",
    "    jacc = jaccard_similarity(c1, c2)\n",
    "    length_diff = abs(len(c1) - len(c2))\n",
    "    ws = word_share_ratio(c1, c2)\n",
    "    bow1 = vectorizer.transform([c1])\n",
    "    bow2 = vectorizer.transform([c2])\n",
    "    bow_cos = cosine_similarity(bow1, bow2)[0, 0]\n",
    "    feature_vec = np.array([[jacc, length_diff, ws, bow_cos]])\n",
    "    pred = clf.predict(feature_vec)[0]\n",
    "    return {'similarity_score': bow_cos, 'predicted_label': pred}\n",
    "\n",
    "# Example\n",
    "sample_result = predict_similarity_ml('How can I be a good geologist?', 'What should I do to be a great geologist?')\n",
    "print(sample_result)\n"
   ]
  },
  {
   "cell_type": "code",
   "execution_count": null,
   "id": "04f3fbf0",
   "metadata": {},
   "outputs": [],
   "source": []
  }
 ],
 "metadata": {
  "kernelspec": {
   "display_name": "Python 3 (ipykernel)",
   "language": "python",
   "name": "python3"
  },
  "language_info": {
   "codemirror_mode": {
    "name": "ipython",
    "version": 3
   },
   "file_extension": ".py",
   "mimetype": "text/x-python",
   "name": "python",
   "nbconvert_exporter": "python",
   "pygments_lexer": "ipython3",
   "version": "3.11.7"
  }
 },
 "nbformat": 4,
 "nbformat_minor": 5
}
