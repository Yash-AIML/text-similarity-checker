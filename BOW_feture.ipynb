{
 "cells": [
  {
   "cell_type": "code",
   "execution_count": 1,
   "id": "13dc0777",
   "metadata": {},
   "outputs": [],
   "source": [
    "import pandas as pd\n",
    "import numpy as np\n",
    "import seaborn as sns\n",
    "import matplotlib.pyplot as plt"
   ]
  },
  {
   "cell_type": "code",
   "execution_count": 2,
   "id": "2418e0fd",
   "metadata": {},
   "outputs": [],
   "source": [
    "df = pd.read_csv('train.csv')"
   ]
  },
  {
   "cell_type": "code",
   "execution_count": 3,
   "id": "5e4c22f1",
   "metadata": {},
   "outputs": [],
   "source": [
    "new_df = df.sample(30000)"
   ]
  },
  {
   "cell_type": "code",
   "execution_count": 4,
   "id": "2601d165",
   "metadata": {},
   "outputs": [
    {
     "data": {
      "text/plain": [
       "id              0\n",
       "qid1            0\n",
       "qid2            0\n",
       "question1       0\n",
       "question2       0\n",
       "is_duplicate    0\n",
       "dtype: int64"
      ]
     },
     "execution_count": 4,
     "metadata": {},
     "output_type": "execute_result"
    }
   ],
   "source": [
    "new_df.isnull().sum()"
   ]
  },
  {
   "cell_type": "code",
   "execution_count": 5,
   "id": "32306689",
   "metadata": {},
   "outputs": [
    {
     "data": {
      "text/plain": [
       "0"
      ]
     },
     "execution_count": 5,
     "metadata": {},
     "output_type": "execute_result"
    }
   ],
   "source": [
    "new_df.duplicated().sum()"
   ]
  },
  {
   "cell_type": "code",
   "execution_count": 6,
   "id": "99ee8ef6",
   "metadata": {},
   "outputs": [
    {
     "name": "stdout",
     "output_type": "stream",
     "text": [
      "is_duplicate\n",
      "0    18852\n",
      "1    11148\n",
      "Name: count, dtype: int64\n",
      "is_duplicate\n",
      "0    62.84\n",
      "1    37.16\n",
      "Name: count, dtype: float64\n"
     ]
    },
    {
     "data": {
      "text/plain": [
       "<Axes: xlabel='is_duplicate'>"
      ]
     },
     "execution_count": 6,
     "metadata": {},
     "output_type": "execute_result"
    },
    {
     "data": {
      "image/png": "[encoded data removed]",
      "text/plain": [
       "<Figure size 640x480 with 1 Axes>"
      ]
     },
     "metadata": {},
     "output_type": "display_data"
    }
   ],
   "source": [
    "print(new_df['is_duplicate'].value_counts())\n",
    "print((new_df['is_duplicate'].value_counts()/new_df['is_duplicate'].count())*100)\n",
    "new_df['is_duplicate'].value_counts().plot(kind='bar')"
   ]
  },
  {
   "cell_type": "code",
   "execution_count": 7,
   "id": "7b607423",
   "metadata": {},
   "outputs": [],
   "source": [
    "new_df['q1_len']=new_df['question1'].str.len()\n",
    "new_df['q2_len']=new_df['question1'].str.len()"
   ]
  },
  {
   "cell_type": "code",
   "execution_count": 8,
   "id": "91a56f89",
   "metadata": {},
   "outputs": [
    {
     "data": {
      "text/plain": [
       "<bound method NDFrame.head of             id    qid1    qid2  \\\n",
       "293333  293333  415078  415079   \n",
       "77283    77283  131987  131988   \n",
       "282738  282738  216147  110382   \n",
       "88635    88635  114132   62970   \n",
       "322331  322331   77058  362609   \n",
       "...        ...     ...     ...   \n",
       "263170  263170   31120  106701   \n",
       "11130    11130   21518   21519   \n",
       "368868  368868  499278  499279   \n",
       "130716  130716  209722  209723   \n",
       "355648  355648  484892  484893   \n",
       "\n",
       "                                                question1  \\\n",
       "293333  What are some cool distributed systems project...   \n",
       "77283   What happened to KM Nanavati after he was rele...   \n",
       "282738            What is the best way to stop terrorism?   \n",
       "88635               How does one simply fall out of love?   \n",
       "322331  What can I do about an iPod that won't hold ch...   \n",
       "...                                                   ...   \n",
       "263170  How is Donald Trump a better choice than Hilla...   \n",
       "11130       How can I create a WiFi hotspot in Windows 7?   \n",
       "368868        Why do some people dislike president Obama?   \n",
       "130716  Which is a better country, India or South Africa?   \n",
       "355648             What is your favorite Christmas movie?   \n",
       "\n",
       "                                                question2  is_duplicate  \\\n",
       "293333  What are good open source distributed systems ...             0   \n",
       "77283                 What are some uses for Vmax and Km?             0   \n",
       "282738                           How do I stop terrorism?             1   \n",
       "88635             How do I fall out of love with someone?             1   \n",
       "322331  What should I do if my iPod Touch does not cha...             1   \n",
       "...                                                   ...           ...   \n",
       "263170  Would Mr. Donald Trump be a better president t...             1   \n",
       "11130        How do I create a WiFi hotspot in my laptop?             0   \n",
       "368868  In short, why do so many people dislike Barack...             1   \n",
       "130716       Is India a better country than South Africa?             1   \n",
       "355648           What are your favorite Christmas movies?             1   \n",
       "\n",
       "        q1_len  q2_len  \n",
       "293333      61      61  \n",
       "77283       51      51  \n",
       "282738      39      39  \n",
       "88635       37      37  \n",
       "322331      51      51  \n",
       "...        ...     ...  \n",
       "263170      57      57  \n",
       "11130       45      45  \n",
       "368868      43      43  \n",
       "130716      49      49  \n",
       "355648      38      38  \n",
       "\n",
       "[30000 rows x 8 columns]>"
      ]
     },
     "execution_count": 8,
     "metadata": {},
     "output_type": "execute_result"
    }
   ],
   "source": [
    "new_df.head"
   ]
  },
  {
   "cell_type": "code",
   "execution_count": 9,
   "id": "2b6325bb",
   "metadata": {},
   "outputs": [],
   "source": [
    "new_df['q1_num_word']=new_df['question1'].apply(lambda x: len(x.split(' ')))\n",
    "new_df['q2_num_word']=new_df['question1'].apply(lambda x: len(x.split(' ')))"
   ]
  },
  {
   "cell_type": "code",
   "execution_count": 10,
   "id": "fbdd8909",
   "metadata": {},
   "outputs": [
    {
     "data": {
      "text/html": [
       "<div>\n",
       "<style scoped>\n",
       "    .dataframe tbody tr th:only-of-type {\n",
       "        vertical-align: middle;\n",
       "    }\n",
       "\n",
       "    .dataframe tbody tr th {\n",
       "        vertical-align: top;\n",
       "    }\n",
       "\n",
       "    .dataframe thead th {\n",
       "        text-align: right;\n",
       "    }\n",
       "</style>\n",
       "<table border=\"1\" class=\"dataframe\">\n",
       "  <thead>\n",
       "    <tr style=\"text-align: right;\">\n",
       "      <th></th>\n",
       "      <th>id</th>\n",
       "      <th>qid1</th>\n",
       "      <th>qid2</th>\n",
       "      <th>question1</th>\n",
       "      <th>question2</th>\n",
       "      <th>is_duplicate</th>\n",
       "      <th>q1_len</th>\n",
       "      <th>q2_len</th>\n",
       "      <th>q1_num_word</th>\n",
       "      <th>q2_num_word</th>\n",
       "    </tr>\n",
       "  </thead>\n",
       "  <tbody>\n",
       "    <tr>\n",
       "      <th>293333</th>\n",
       "      <td>293333</td>\n",
       "      <td>415078</td>\n",
       "      <td>415079</td>\n",
       "      <td>What are some cool distributed systems project...</td>\n",
       "      <td>What are good open source distributed systems ...</td>\n",
       "      <td>0</td>\n",
       "      <td>61</td>\n",
       "      <td>61</td>\n",
       "      <td>10</td>\n",
       "      <td>10</td>\n",
       "    </tr>\n",
       "    <tr>\n",
       "      <th>77283</th>\n",
       "      <td>77283</td>\n",
       "      <td>131987</td>\n",
       "      <td>131988</td>\n",
       "      <td>What happened to KM Nanavati after he was rele...</td>\n",
       "      <td>What are some uses for Vmax and Km?</td>\n",
       "      <td>0</td>\n",
       "      <td>51</td>\n",
       "      <td>51</td>\n",
       "      <td>9</td>\n",
       "      <td>9</td>\n",
       "    </tr>\n",
       "    <tr>\n",
       "      <th>282738</th>\n",
       "      <td>282738</td>\n",
       "      <td>216147</td>\n",
       "      <td>110382</td>\n",
       "      <td>What is the best way to stop terrorism?</td>\n",
       "      <td>How do I stop terrorism?</td>\n",
       "      <td>1</td>\n",
       "      <td>39</td>\n",
       "      <td>39</td>\n",
       "      <td>8</td>\n",
       "      <td>8</td>\n",
       "    </tr>\n",
       "    <tr>\n",
       "      <th>88635</th>\n",
       "      <td>88635</td>\n",
       "      <td>114132</td>\n",
       "      <td>62970</td>\n",
       "      <td>How does one simply fall out of love?</td>\n",
       "      <td>How do I fall out of love with someone?</td>\n",
       "      <td>1</td>\n",
       "      <td>37</td>\n",
       "      <td>37</td>\n",
       "      <td>8</td>\n",
       "      <td>8</td>\n",
       "    </tr>\n",
       "    <tr>\n",
       "      <th>322331</th>\n",
       "      <td>322331</td>\n",
       "      <td>77058</td>\n",
       "      <td>362609</td>\n",
       "      <td>What can I do about an iPod that won't hold ch...</td>\n",
       "      <td>What should I do if my iPod Touch does not cha...</td>\n",
       "      <td>1</td>\n",
       "      <td>51</td>\n",
       "      <td>51</td>\n",
       "      <td>11</td>\n",
       "      <td>11</td>\n",
       "    </tr>\n",
       "  </tbody>\n",
       "</table>\n",
       "</div>"
      ],
      "text/plain": [
       "            id    qid1    qid2  \\\n",
       "293333  293333  415078  415079   \n",
       "77283    77283  131987  131988   \n",
       "282738  282738  216147  110382   \n",
       "88635    88635  114132   62970   \n",
       "322331  322331   77058  362609   \n",
       "\n",
       "                                                question1  \\\n",
       "293333  What are some cool distributed systems project...   \n",
       "77283   What happened to KM Nanavati after he was rele...   \n",
       "282738            What is the best way to stop terrorism?   \n",
       "88635               How does one simply fall out of love?   \n",
       "322331  What can I do about an iPod that won't hold ch...   \n",
       "\n",
       "                                                question2  is_duplicate  \\\n",
       "293333  What are good open source distributed systems ...             0   \n",
       "77283                 What are some uses for Vmax and Km?             0   \n",
       "282738                           How do I stop terrorism?             1   \n",
       "88635             How do I fall out of love with someone?             1   \n",
       "322331  What should I do if my iPod Touch does not cha...             1   \n",
       "\n",
       "        q1_len  q2_len  q1_num_word  q2_num_word  \n",
       "293333      61      61           10           10  \n",
       "77283       51      51            9            9  \n",
       "282738      39      39            8            8  \n",
       "88635       37      37            8            8  \n",
       "322331      51      51           11           11  "
      ]
     },
     "execution_count": 10,
     "metadata": {},
     "output_type": "execute_result"
    }
   ],
   "source": [
    "new_df.head()"
   ]
  },
  {
   "cell_type": "code",
   "execution_count": 11,
   "id": "364676e0",
   "metadata": {},
   "outputs": [],
   "source": [
    "def common_words(row):\n",
    "    w1 = set(map(lambda word: word.lower().strip(),row['question1'].split(' ')))\n",
    "    w2 = set(map(lambda word: word.lower().strip(),row['question2'].split(' ')))\n",
    "    return len(w1 & w2)"
   ]
  },
  {
   "cell_type": "code",
   "execution_count": 12,
   "id": "de76c539",
   "metadata": {},
   "outputs": [],
   "source": [
    "new_df['word_common'] = new_df.apply(common_words,axis=1)"
   ]
  },
  {
   "cell_type": "code",
   "execution_count": 13,
   "id": "2b0bce98",
   "metadata": {},
   "outputs": [
    {
     "data": {
      "text/html": [
       "<div>\n",
       "<style scoped>\n",
       "    .dataframe tbody tr th:only-of-type {\n",
       "        vertical-align: middle;\n",
       "    }\n",
       "\n",
       "    .dataframe tbody tr th {\n",
       "        vertical-align: top;\n",
       "    }\n",
       "\n",
       "    .dataframe thead th {\n",
       "        text-align: right;\n",
       "    }\n",
       "</style>\n",
       "<table border=\"1\" class=\"dataframe\">\n",
       "  <thead>\n",
       "    <tr style=\"text-align: right;\">\n",
       "      <th></th>\n",
       "      <th>id</th>\n",
       "      <th>qid1</th>\n",
       "      <th>qid2</th>\n",
       "      <th>question1</th>\n",
       "      <th>question2</th>\n",
       "      <th>is_duplicate</th>\n",
       "      <th>q1_len</th>\n",
       "      <th>q2_len</th>\n",
       "      <th>q1_num_word</th>\n",
       "      <th>q2_num_word</th>\n",
       "      <th>word_common</th>\n",
       "    </tr>\n",
       "  </thead>\n",
       "  <tbody>\n",
       "    <tr>\n",
       "      <th>293333</th>\n",
       "      <td>293333</td>\n",
       "      <td>415078</td>\n",
       "      <td>415079</td>\n",
       "      <td>What are some cool distributed systems project...</td>\n",
       "      <td>What are good open source distributed systems ...</td>\n",
       "      <td>0</td>\n",
       "      <td>61</td>\n",
       "      <td>61</td>\n",
       "      <td>10</td>\n",
       "      <td>10</td>\n",
       "      <td>5</td>\n",
       "    </tr>\n",
       "    <tr>\n",
       "      <th>77283</th>\n",
       "      <td>77283</td>\n",
       "      <td>131987</td>\n",
       "      <td>131988</td>\n",
       "      <td>What happened to KM Nanavati after he was rele...</td>\n",
       "      <td>What are some uses for Vmax and Km?</td>\n",
       "      <td>0</td>\n",
       "      <td>51</td>\n",
       "      <td>51</td>\n",
       "      <td>9</td>\n",
       "      <td>9</td>\n",
       "      <td>1</td>\n",
       "    </tr>\n",
       "    <tr>\n",
       "      <th>282738</th>\n",
       "      <td>282738</td>\n",
       "      <td>216147</td>\n",
       "      <td>110382</td>\n",
       "      <td>What is the best way to stop terrorism?</td>\n",
       "      <td>How do I stop terrorism?</td>\n",
       "      <td>1</td>\n",
       "      <td>39</td>\n",
       "      <td>39</td>\n",
       "      <td>8</td>\n",
       "      <td>8</td>\n",
       "      <td>2</td>\n",
       "    </tr>\n",
       "    <tr>\n",
       "      <th>88635</th>\n",
       "      <td>88635</td>\n",
       "      <td>114132</td>\n",
       "      <td>62970</td>\n",
       "      <td>How does one simply fall out of love?</td>\n",
       "      <td>How do I fall out of love with someone?</td>\n",
       "      <td>1</td>\n",
       "      <td>37</td>\n",
       "      <td>37</td>\n",
       "      <td>8</td>\n",
       "      <td>8</td>\n",
       "      <td>4</td>\n",
       "    </tr>\n",
       "    <tr>\n",
       "      <th>322331</th>\n",
       "      <td>322331</td>\n",
       "      <td>77058</td>\n",
       "      <td>362609</td>\n",
       "      <td>What can I do about an iPod that won't hold ch...</td>\n",
       "      <td>What should I do if my iPod Touch does not cha...</td>\n",
       "      <td>1</td>\n",
       "      <td>51</td>\n",
       "      <td>51</td>\n",
       "      <td>11</td>\n",
       "      <td>11</td>\n",
       "      <td>5</td>\n",
       "    </tr>\n",
       "  </tbody>\n",
       "</table>\n",
       "</div>"
      ],
      "text/plain": [
       "            id    qid1    qid2  \\\n",
       "293333  293333  415078  415079   \n",
       "77283    77283  131987  131988   \n",
       "282738  282738  216147  110382   \n",
       "88635    88635  114132   62970   \n",
       "322331  322331   77058  362609   \n",
       "\n",
       "                                                question1  \\\n",
       "293333  What are some cool distributed systems project...   \n",
       "77283   What happened to KM Nanavati after he was rele...   \n",
       "282738            What is the best way to stop terrorism?   \n",
       "88635               How does one simply fall out of love?   \n",
       "322331  What can I do about an iPod that won't hold ch...   \n",
       "\n",
       "                                                question2  is_duplicate  \\\n",
       "293333  What are good open source distributed systems ...             0   \n",
       "77283                 What are some uses for Vmax and Km?             0   \n",
       "282738                           How do I stop terrorism?             1   \n",
       "88635             How do I fall out of love with someone?             1   \n",
       "322331  What should I do if my iPod Touch does not cha...             1   \n",
       "\n",
       "        q1_len  q2_len  q1_num_word  q2_num_word  word_common  \n",
       "293333      61      61           10           10            5  \n",
       "77283       51      51            9            9            1  \n",
       "282738      39      39            8            8            2  \n",
       "88635       37      37            8            8            4  \n",
       "322331      51      51           11           11            5  "
      ]
     },
     "execution_count": 13,
     "metadata": {},
     "output_type": "execute_result"
    }
   ],
   "source": [
    "new_df.head()"
   ]
  },
  {
   "cell_type": "code",
   "execution_count": 14,
   "id": "4de119c4",
   "metadata": {},
   "outputs": [],
   "source": [
    "def total_words(row):\n",
    "    w1 = set(map(lambda word: word.lower().strip(),row['question1'].split(' ')))\n",
    "    w2 = set(map(lambda word: word.lower().strip(),row['question2'].split(' ')))\n",
    "    return len(len(w1) + len(w2))\n"
   ]
  },
  {
   "cell_type": "code",
   "execution_count": 15,
   "id": "0af0f36a",
   "metadata": {},
   "outputs": [
    {
     "data": {
      "text/html": [
       "<div>\n",
       "<style scoped>\n",
       "    .dataframe tbody tr th:only-of-type {\n",
       "        vertical-align: middle;\n",
       "    }\n",
       "\n",
       "    .dataframe tbody tr th {\n",
       "        vertical-align: top;\n",
       "    }\n",
       "\n",
       "    .dataframe thead th {\n",
       "        text-align: right;\n",
       "    }\n",
       "</style>\n",
       "<table border=\"1\" class=\"dataframe\">\n",
       "  <thead>\n",
       "    <tr style=\"text-align: right;\">\n",
       "      <th></th>\n",
       "      <th>id</th>\n",
       "      <th>qid1</th>\n",
       "      <th>qid2</th>\n",
       "      <th>question1</th>\n",
       "      <th>question2</th>\n",
       "      <th>is_duplicate</th>\n",
       "      <th>q1_len</th>\n",
       "      <th>q2_len</th>\n",
       "      <th>q1_num_word</th>\n",
       "      <th>q2_num_word</th>\n",
       "      <th>word_common</th>\n",
       "      <th>total_words</th>\n",
       "    </tr>\n",
       "  </thead>\n",
       "  <tbody>\n",
       "    <tr>\n",
       "      <th>293333</th>\n",
       "      <td>293333</td>\n",
       "      <td>415078</td>\n",
       "      <td>415079</td>\n",
       "      <td>What are some cool distributed systems project...</td>\n",
       "      <td>What are good open source distributed systems ...</td>\n",
       "      <td>0</td>\n",
       "      <td>61</td>\n",
       "      <td>61</td>\n",
       "      <td>10</td>\n",
       "      <td>10</td>\n",
       "      <td>5</td>\n",
       "      <td>5</td>\n",
       "    </tr>\n",
       "    <tr>\n",
       "      <th>77283</th>\n",
       "      <td>77283</td>\n",
       "      <td>131987</td>\n",
       "      <td>131988</td>\n",
       "      <td>What happened to KM Nanavati after he was rele...</td>\n",
       "      <td>What are some uses for Vmax and Km?</td>\n",
       "      <td>0</td>\n",
       "      <td>51</td>\n",
       "      <td>51</td>\n",
       "      <td>9</td>\n",
       "      <td>9</td>\n",
       "      <td>1</td>\n",
       "      <td>1</td>\n",
       "    </tr>\n",
       "    <tr>\n",
       "      <th>282738</th>\n",
       "      <td>282738</td>\n",
       "      <td>216147</td>\n",
       "      <td>110382</td>\n",
       "      <td>What is the best way to stop terrorism?</td>\n",
       "      <td>How do I stop terrorism?</td>\n",
       "      <td>1</td>\n",
       "      <td>39</td>\n",
       "      <td>39</td>\n",
       "      <td>8</td>\n",
       "      <td>8</td>\n",
       "      <td>2</td>\n",
       "      <td>2</td>\n",
       "    </tr>\n",
       "    <tr>\n",
       "      <th>88635</th>\n",
       "      <td>88635</td>\n",
       "      <td>114132</td>\n",
       "      <td>62970</td>\n",
       "      <td>How does one simply fall out of love?</td>\n",
       "      <td>How do I fall out of love with someone?</td>\n",
       "      <td>1</td>\n",
       "      <td>37</td>\n",
       "      <td>37</td>\n",
       "      <td>8</td>\n",
       "      <td>8</td>\n",
       "      <td>4</td>\n",
       "      <td>4</td>\n",
       "    </tr>\n",
       "    <tr>\n",
       "      <th>322331</th>\n",
       "      <td>322331</td>\n",
       "      <td>77058</td>\n",
       "      <td>362609</td>\n",
       "      <td>What can I do about an iPod that won't hold ch...</td>\n",
       "      <td>What should I do if my iPod Touch does not cha...</td>\n",
       "      <td>1</td>\n",
       "      <td>51</td>\n",
       "      <td>51</td>\n",
       "      <td>11</td>\n",
       "      <td>11</td>\n",
       "      <td>5</td>\n",
       "      <td>5</td>\n",
       "    </tr>\n",
       "  </tbody>\n",
       "</table>\n",
       "</div>"
      ],
      "text/plain": [
       "            id    qid1    qid2  \\\n",
       "293333  293333  415078  415079   \n",
       "77283    77283  131987  131988   \n",
       "282738  282738  216147  110382   \n",
       "88635    88635  114132   62970   \n",
       "322331  322331   77058  362609   \n",
       "\n",
       "                                                question1  \\\n",
       "293333  What are some cool distributed systems project...   \n",
       "77283   What happened to KM Nanavati after he was rele...   \n",
       "282738            What is the best way to stop terrorism?   \n",
       "88635               How does one simply fall out of love?   \n",
       "322331  What can I do about an iPod that won't hold ch...   \n",
       "\n",
       "                                                question2  is_duplicate  \\\n",
       "293333  What are good open source distributed systems ...             0   \n",
       "77283                 What are some uses for Vmax and Km?             0   \n",
       "282738                           How do I stop terrorism?             1   \n",
       "88635             How do I fall out of love with someone?             1   \n",
       "322331  What should I do if my iPod Touch does not cha...             1   \n",
       "\n",
       "        q1_len  q2_len  q1_num_word  q2_num_word  word_common  total_words  \n",
       "293333      61      61           10           10            5            5  \n",
       "77283       51      51            9            9            1            1  \n",
       "282738      39      39            8            8            2            2  \n",
       "88635       37      37            8            8            4            4  \n",
       "322331      51      51           11           11            5            5  "
      ]
     },
     "execution_count": 15,
     "metadata": {},
     "output_type": "execute_result"
    }
   ],
   "source": [
    "new_df['total_words'] = new_df.apply(common_words,axis=1)\n",
    "new_df.head()"
   ]
  },
  {
   "cell_type": "code",
   "execution_count": 16,
   "id": "2a198169",
   "metadata": {},
   "outputs": [
    {
     "name": "stdout",
     "output_type": "stream",
     "text": [
      "            id    qid1    qid2  \\\n",
      "293333  293333  415078  415079   \n",
      "77283    77283  131987  131988   \n",
      "282738  282738  216147  110382   \n",
      "88635    88635  114132   62970   \n",
      "322331  322331   77058  362609   \n",
      "\n",
      "                                                question1  \\\n",
      "293333  What are some cool distributed systems project...   \n",
      "77283   What happened to KM Nanavati after he was rele...   \n",
      "282738            What is the best way to stop terrorism?   \n",
      "88635               How does one simply fall out of love?   \n",
      "322331  What can I do about an iPod that won't hold ch...   \n",
      "\n",
      "                                                question2  is_duplicate  \\\n",
      "293333  What are good open source distributed systems ...             0   \n",
      "77283                 What are some uses for Vmax and Km?             0   \n",
      "282738                           How do I stop terrorism?             1   \n",
      "88635             How do I fall out of love with someone?             1   \n",
      "322331  What should I do if my iPod Touch does not cha...             1   \n",
      "\n",
      "        q1_len  q2_len  q1_num_word  q2_num_word  word_common  total_words  \\\n",
      "293333      61      61           10           10            5            5   \n",
      "77283       51      51            9            9            1            1   \n",
      "282738      39      39            8            8            2            2   \n",
      "88635       37      37            8            8            4            4   \n",
      "322331      51      51           11           11            5            5   \n",
      "\n",
      "        word_share  \n",
      "293333         1.0  \n",
      "77283          1.0  \n",
      "282738         1.0  \n",
      "88635          1.0  \n",
      "322331         1.0  \n",
      "id                 0\n",
      "qid1               0\n",
      "qid2               0\n",
      "question1          0\n",
      "question2          0\n",
      "is_duplicate       0\n",
      "q1_len             0\n",
      "q2_len             0\n",
      "q1_num_word        0\n",
      "q2_num_word        0\n",
      "word_common        0\n",
      "total_words        0\n",
      "word_share      1675\n",
      "dtype: int64\n"
     ]
    }
   ],
   "source": [
    "new_df['word_share'] = round(new_df['word_common']/new_df['total_words'])\n",
    "print(new_df.head())\n",
    "print(new_df.isnull().sum())"
   ]
  },
  {
   "cell_type": "code",
   "execution_count": null,
   "id": "d330db8f",
   "metadata": {},
   "outputs": [],
   "source": []
  },
  {
   "cell_type": "code",
   "execution_count": 17,
   "id": "6ec3607b",
   "metadata": {},
   "outputs": [
    {
     "data": {
      "text/plain": [
       "id                 0\n",
       "qid1               0\n",
       "qid2               0\n",
       "question1          0\n",
       "question2          0\n",
       "is_duplicate       0\n",
       "q1_len             0\n",
       "q2_len             0\n",
       "q1_num_word        0\n",
       "q2_num_word        0\n",
       "word_common        0\n",
       "total_words        0\n",
       "word_share      1675\n",
       "dtype: int64"
      ]
     },
     "execution_count": 17,
     "metadata": {},
     "output_type": "execute_result"
    }
   ],
   "source": [
    "new_df['word_share'].replace(0, np.nan, inplace=True)\n",
    "new_df.isnull().sum()\n"
   ]
  },
  {
   "cell_type": "code",
   "execution_count": 18,
   "id": "3dfec79c",
   "metadata": {},
   "outputs": [],
   "source": [
    "ques_df = new_df[['question1','question2']]"
   ]
  },
  {
   "cell_type": "code",
   "execution_count": 19,
   "id": "2d6bc023",
   "metadata": {},
   "outputs": [
    {
     "data": {
      "text/html": [
       "<div>\n",
       "<style scoped>\n",
       "    .dataframe tbody tr th:only-of-type {\n",
       "        vertical-align: middle;\n",
       "    }\n",
       "\n",
       "    .dataframe tbody tr th {\n",
       "        vertical-align: top;\n",
       "    }\n",
       "\n",
       "    .dataframe thead th {\n",
       "        text-align: right;\n",
       "    }\n",
       "</style>\n",
       "<table border=\"1\" class=\"dataframe\">\n",
       "  <thead>\n",
       "    <tr style=\"text-align: right;\">\n",
       "      <th></th>\n",
       "      <th>question1</th>\n",
       "      <th>question2</th>\n",
       "    </tr>\n",
       "  </thead>\n",
       "  <tbody>\n",
       "    <tr>\n",
       "      <th>293333</th>\n",
       "      <td>What are some cool distributed systems project...</td>\n",
       "      <td>What are good open source distributed systems ...</td>\n",
       "    </tr>\n",
       "    <tr>\n",
       "      <th>77283</th>\n",
       "      <td>What happened to KM Nanavati after he was rele...</td>\n",
       "      <td>What are some uses for Vmax and Km?</td>\n",
       "    </tr>\n",
       "    <tr>\n",
       "      <th>282738</th>\n",
       "      <td>What is the best way to stop terrorism?</td>\n",
       "      <td>How do I stop terrorism?</td>\n",
       "    </tr>\n",
       "    <tr>\n",
       "      <th>88635</th>\n",
       "      <td>How does one simply fall out of love?</td>\n",
       "      <td>How do I fall out of love with someone?</td>\n",
       "    </tr>\n",
       "    <tr>\n",
       "      <th>322331</th>\n",
       "      <td>What can I do about an iPod that won't hold ch...</td>\n",
       "      <td>What should I do if my iPod Touch does not cha...</td>\n",
       "    </tr>\n",
       "  </tbody>\n",
       "</table>\n",
       "</div>"
      ],
      "text/plain": [
       "                                                question1  \\\n",
       "293333  What are some cool distributed systems project...   \n",
       "77283   What happened to KM Nanavati after he was rele...   \n",
       "282738            What is the best way to stop terrorism?   \n",
       "88635               How does one simply fall out of love?   \n",
       "322331  What can I do about an iPod that won't hold ch...   \n",
       "\n",
       "                                                question2  \n",
       "293333  What are good open source distributed systems ...  \n",
       "77283                 What are some uses for Vmax and Km?  \n",
       "282738                           How do I stop terrorism?  \n",
       "88635             How do I fall out of love with someone?  \n",
       "322331  What should I do if my iPod Touch does not cha...  "
      ]
     },
     "execution_count": 19,
     "metadata": {},
     "output_type": "execute_result"
    }
   ],
   "source": [
    "ques_df.head()"
   ]
  },
  {
   "cell_type": "code",
   "execution_count": 20,
   "id": "a7f0acd5",
   "metadata": {},
   "outputs": [
    {
     "name": "stdout",
     "output_type": "stream",
     "text": [
      "(30000, 8)\n"
     ]
    },
    {
     "data": {
      "text/html": [
       "<div>\n",
       "<style scoped>\n",
       "    .dataframe tbody tr th:only-of-type {\n",
       "        vertical-align: middle;\n",
       "    }\n",
       "\n",
       "    .dataframe tbody tr th {\n",
       "        vertical-align: top;\n",
       "    }\n",
       "\n",
       "    .dataframe thead th {\n",
       "        text-align: right;\n",
       "    }\n",
       "</style>\n",
       "<table border=\"1\" class=\"dataframe\">\n",
       "  <thead>\n",
       "    <tr style=\"text-align: right;\">\n",
       "      <th></th>\n",
       "      <th>is_duplicate</th>\n",
       "      <th>q1_len</th>\n",
       "      <th>q2_len</th>\n",
       "      <th>q1_num_word</th>\n",
       "      <th>q2_num_word</th>\n",
       "      <th>word_common</th>\n",
       "      <th>total_words</th>\n",
       "      <th>word_share</th>\n",
       "    </tr>\n",
       "  </thead>\n",
       "  <tbody>\n",
       "    <tr>\n",
       "      <th>293333</th>\n",
       "      <td>0</td>\n",
       "      <td>61</td>\n",
       "      <td>61</td>\n",
       "      <td>10</td>\n",
       "      <td>10</td>\n",
       "      <td>5</td>\n",
       "      <td>5</td>\n",
       "      <td>1.0</td>\n",
       "    </tr>\n",
       "    <tr>\n",
       "      <th>77283</th>\n",
       "      <td>0</td>\n",
       "      <td>51</td>\n",
       "      <td>51</td>\n",
       "      <td>9</td>\n",
       "      <td>9</td>\n",
       "      <td>1</td>\n",
       "      <td>1</td>\n",
       "      <td>1.0</td>\n",
       "    </tr>\n",
       "    <tr>\n",
       "      <th>282738</th>\n",
       "      <td>1</td>\n",
       "      <td>39</td>\n",
       "      <td>39</td>\n",
       "      <td>8</td>\n",
       "      <td>8</td>\n",
       "      <td>2</td>\n",
       "      <td>2</td>\n",
       "      <td>1.0</td>\n",
       "    </tr>\n",
       "    <tr>\n",
       "      <th>88635</th>\n",
       "      <td>1</td>\n",
       "      <td>37</td>\n",
       "      <td>37</td>\n",
       "      <td>8</td>\n",
       "      <td>8</td>\n",
       "      <td>4</td>\n",
       "      <td>4</td>\n",
       "      <td>1.0</td>\n",
       "    </tr>\n",
       "    <tr>\n",
       "      <th>322331</th>\n",
       "      <td>1</td>\n",
       "      <td>51</td>\n",
       "      <td>51</td>\n",
       "      <td>11</td>\n",
       "      <td>11</td>\n",
       "      <td>5</td>\n",
       "      <td>5</td>\n",
       "      <td>1.0</td>\n",
       "    </tr>\n",
       "  </tbody>\n",
       "</table>\n",
       "</div>"
      ],
      "text/plain": [
       "        is_duplicate  q1_len  q2_len  q1_num_word  q2_num_word  word_common  \\\n",
       "293333             0      61      61           10           10            5   \n",
       "77283              0      51      51            9            9            1   \n",
       "282738             1      39      39            8            8            2   \n",
       "88635              1      37      37            8            8            4   \n",
       "322331             1      51      51           11           11            5   \n",
       "\n",
       "        total_words  word_share  \n",
       "293333            5         1.0  \n",
       "77283             1         1.0  \n",
       "282738            2         1.0  \n",
       "88635             4         1.0  \n",
       "322331            5         1.0  "
      ]
     },
     "execution_count": 20,
     "metadata": {},
     "output_type": "execute_result"
    }
   ],
   "source": [
    "final_df = new_df.drop(columns= ['id','qid1','qid2','question1','question2'])\n",
    "print(final_df.shape)\n",
    "final_df.head()"
   ]
  },
  {
   "cell_type": "code",
   "execution_count": 21,
   "id": "7bae3ad6",
   "metadata": {},
   "outputs": [],
   "source": [
    "from sklearn.feature_extraction.text import CountVectorizer\n",
    "questions = list(ques_df['question1']) + list(ques_df['question2'])\n",
    "\n",
    "cv= CountVectorizer(max_features = 3000)\n",
    "q1_arr,q2_arr = np.vsplit(cv.fit_transform(questions).toarray(),2)"
   ]
  },
  {
   "cell_type": "code",
   "execution_count": 22,
   "id": "0e0823bc",
   "metadata": {},
   "outputs": [
    {
     "name": "stdout",
     "output_type": "stream",
     "text": [
      "Index([   0,    1,    2,    3,    4,    5,    6,    7,    8,    9,\n",
      "       ...\n",
      "       2990, 2991, 2992, 2993, 2994, 2995, 2996, 2997, 2998, 2999],\n",
      "      dtype='int64', length=6000)\n"
     ]
    }
   ],
   "source": [
    "temp_df1 = pd.DataFrame(q1_arr,index=ques_df.index)\n",
    "temp_df2 = pd.DataFrame(q2_arr,index=ques_df.index)\n",
    "temp_df  = pd.concat([temp_df1,temp_df2],axis=1)\n",
    "temp_df.shape\n",
    "print(temp_df.columns)\n",
    "# if we not change an type of column it will giv wan error while we fit the model\n",
    "temp_df.columns = temp_df.columns.astype(str)"
   ]
  },
  {
   "cell_type": "code",
   "execution_count": 23,
   "id": "1a10b91b",
   "metadata": {},
   "outputs": [
    {
     "name": "stdout",
     "output_type": "stream",
     "text": [
      "Index(['0', '1', '2', '3', '4', '5', '6', '7', '8', '9',\n",
      "       ...\n",
      "       '2990', '2991', '2992', '2993', '2994', '2995', '2996', '2997', '2998',\n",
      "       '2999'],\n",
      "      dtype='object', length=6000)\n"
     ]
    }
   ],
   "source": [
    "final_df = pd.concat([final_df,temp_df],axis=1)\n",
    "print(temp_df.columns)\n",
    "temp_df.columns = temp_df.columns.astype(str)"
   ]
  },
  {
   "cell_type": "code",
   "execution_count": 24,
   "id": "9f4975d8",
   "metadata": {},
   "outputs": [
    {
     "name": "stdout",
     "output_type": "stream",
     "text": [
      "is_duplicate    0\n",
      "q1_len          0\n",
      "q2_len          0\n",
      "q1_num_word     0\n",
      "q2_num_word     0\n",
      "               ..\n",
      "2995            0\n",
      "2996            0\n",
      "2997            0\n",
      "2998            0\n",
      "2999            0\n",
      "Length: 6008, dtype: int64\n",
      "is_duplicate    0\n",
      "q1_len          0\n",
      "q2_len          0\n",
      "q1_num_word     0\n",
      "q2_num_word     0\n",
      "               ..\n",
      "2995            0\n",
      "2996            0\n",
      "2997            0\n",
      "2998            0\n",
      "2999            0\n",
      "Length: 6008, dtype: int64\n"
     ]
    }
   ],
   "source": [
    "print(final_df.isnull().sum())\n",
    "final_df['word_share'].fillna(0, inplace=True)\n",
    "print(final_df.isnull().sum())\n"
   ]
  },
  {
   "cell_type": "code",
   "execution_count": 33,
   "id": "1d715818",
   "metadata": {},
   "outputs": [],
   "source": [
    "# from sklearn.model_selection import train_test_split\n",
    "# x_train,x_test,y_train,y_test = train_test_split(temp_df.iloc[:,0:-1].values,test_size=0.2,random_state=16)\n",
    "from sklearn.model_selection import train_test_split\n",
    "\n",
    "# Assuming 'temp_df' is your DataFrame\n",
    "# The line below is corrected\n",
    "x_train, x_test, y_train, y_test = train_test_split(final_df.iloc[:, 1:], \n",
    "                                                    final_df.iloc[:, 0], \n",
    "                                                    test_size=0.2, \n",
    "                                                    random_state=2)\n"
   ]
  },
  {
   "cell_type": "code",
   "execution_count": 32,
   "id": "f2bec6f3",
   "metadata": {},
   "outputs": [
    {
     "data": {
      "text/plain": [
       "293333    0\n",
       "77283     0\n",
       "282738    1\n",
       "88635     1\n",
       "322331    1\n",
       "         ..\n",
       "263170    1\n",
       "11130     0\n",
       "368868    1\n",
       "130716    1\n",
       "355648    1\n",
       "Name: is_duplicate, Length: 30000, dtype: int64"
      ]
     },
     "execution_count": 32,
     "metadata": {},
     "output_type": "execute_result"
    }
   ],
   "source": [
    "# y_train.isnull().sum()\n",
    "# y_train\n",
    "#x_train.columns = x_train.columns.astype(str)\n",
    "final_df.iloc[:, 0]"
   ]
  },
  {
   "cell_type": "code",
   "execution_count": 34,
   "id": "d00458f4",
   "metadata": {},
   "outputs": [
    {
     "data": {
      "text/plain": [
       "0.7475"
      ]
     },
     "execution_count": 34,
     "metadata": {},
     "output_type": "execute_result"
    }
   ],
   "source": [
    "from sklearn.ensemble import RandomForestClassifier\n",
    "from sklearn.metrics import accuracy_score\n",
    "rf = RandomForestClassifier()\n",
    "rf.fit(x_train,y_train)\n",
    "y_pred = rf.predict(x_test)\n",
    "accuracy_score(y_test,y_pred)"
   ]
  },
  {
   "cell_type": "code",
   "execution_count": 35,
   "id": "0f915a2e",
   "metadata": {},
   "outputs": [],
   "source": [
    "import pickle\n",
    "\n",
    "pickle.dump(rf,open('model.pkl','wb'))\n",
    "pickle.dump(cv,open('cv.pkl','wb'))"
   ]
  },
  {
   "cell_type": "code",
   "execution_count": 36,
   "id": "da157270",
   "metadata": {},
   "outputs": [
    {
     "name": "stdout",
     "output_type": "stream",
     "text": [
      "        q1_len  q2_len  q1_num_word  q2_num_word  word_common  total_words  \\\n",
      "202618      45      45            8            8            1            1   \n",
      "16303       39      39            9            9            3            3   \n",
      "52844       47      47           10           10            3            3   \n",
      "394096      51      51           11           11            9            9   \n",
      "19578       41      41            7            7            5            5   \n",
      "...        ...     ...          ...          ...          ...          ...   \n",
      "24352       54      54           10           10            0            0   \n",
      "51581       41      41            7            7            2            2   \n",
      "203249      30      30            6            6            4            4   \n",
      "393401     118     118           22           22            3            3   \n",
      "132363      57      57           10           10            5            5   \n",
      "\n",
      "        word_share  0  1  2  ...  2990  2991  2992  2993  2994  2995  2996  \\\n",
      "202618         1.0  0  0  0  ...     0     0     0     0     0     0     0   \n",
      "16303          1.0  0  0  0  ...     0     0     0     0     0     0     0   \n",
      "52844          1.0  0  0  0  ...     0     0     0     0     1     0     0   \n",
      "394096         1.0  0  0  0  ...     0     0     0     0     0     0     0   \n",
      "19578          1.0  0  0  0  ...     0     0     0     0     0     0     0   \n",
      "...            ... .. .. ..  ...   ...   ...   ...   ...   ...   ...   ...   \n",
      "24352          0.0  0  0  0  ...     0     0     0     0     0     0     0   \n",
      "51581          1.0  0  0  0  ...     0     0     0     0     0     0     0   \n",
      "203249         1.0  0  0  0  ...     0     0     0     0     0     0     0   \n",
      "393401         1.0  0  0  0  ...     0     0     0     0     0     0     0   \n",
      "132363         1.0  0  0  0  ...     0     0     0     0     0     0     0   \n",
      "\n",
      "        2997  2998  2999  \n",
      "202618     0     0     0  \n",
      "16303      0     0     0  \n",
      "52844      0     0     0  \n",
      "394096     0     0     0  \n",
      "19578      0     0     0  \n",
      "...      ...   ...   ...  \n",
      "24352      0     0     0  \n",
      "51581      0     0     0  \n",
      "203249     0     0     0  \n",
      "393401     0     0     0  \n",
      "132363     0     0     0  \n",
      "\n",
      "[6000 rows x 6007 columns]\n"
     ]
    }
   ],
   "source": []
  },
  {
   "cell_type": "code",
   "execution_count": 37,
   "id": "1ae75940",
   "metadata": {},
   "outputs": [
    {
     "ename": "TypeError",
     "evalue": "validate_params() got an unexpected keyword argument 'prefer_skip_nested_validation'",
     "output_type": "error",
     "traceback": [
      "\u001b[1;31m---------------------------------------------------------------------------\u001b[0m",
      "\u001b[1;31mTypeError\u001b[0m                                 Traceback (most recent call last)",
      "Cell \u001b[1;32mIn[37], line 2\u001b[0m\n\u001b[0;32m      1\u001b[0m \u001b[38;5;28;01mimport\u001b[39;00m \u001b[38;5;21;01mpickle\u001b[39;00m\n\u001b[1;32m----> 2\u001b[0m \u001b[38;5;28;01mfrom\u001b[39;00m \u001b[38;5;21;01mnltk\u001b[39;00m\u001b[38;5;21;01m.\u001b[39;00m\u001b[38;5;21;01mcorpus\u001b[39;00m \u001b[38;5;28;01mimport\u001b[39;00m stopwords\n\u001b[0;32m      3\u001b[0m \u001b[38;5;28;01mimport\u001b[39;00m \u001b[38;5;21;01mnltk\u001b[39;00m\n\u001b[0;32m      5\u001b[0m nltk\u001b[38;5;241m.\u001b[39mdownload(\u001b[38;5;124m'\u001b[39m\u001b[38;5;124mstopwords\u001b[39m\u001b[38;5;124m'\u001b[39m)  \u001b[38;5;66;03m# Only required once\u001b[39;00m\n",
      "File \u001b[1;32m~\\anaconda3\\Lib\\site-packages\\nltk\\__init__.py:146\u001b[0m\n\u001b[0;32m    140\u001b[0m \u001b[38;5;28;01mfrom\u001b[39;00m \u001b[38;5;21;01mnltk\u001b[39;00m\u001b[38;5;21;01m.\u001b[39;00m\u001b[38;5;21;01mjsontags\u001b[39;00m \u001b[38;5;28;01mimport\u001b[39;00m \u001b[38;5;241m*\u001b[39m\n\u001b[0;32m    142\u001b[0m \u001b[38;5;66;03m###########################################################\u001b[39;00m\n\u001b[0;32m    143\u001b[0m \u001b[38;5;66;03m# PACKAGES\u001b[39;00m\n\u001b[0;32m    144\u001b[0m \u001b[38;5;66;03m###########################################################\u001b[39;00m\n\u001b[1;32m--> 146\u001b[0m \u001b[38;5;28;01mfrom\u001b[39;00m \u001b[38;5;21;01mnltk\u001b[39;00m\u001b[38;5;21;01m.\u001b[39;00m\u001b[38;5;21;01mchunk\u001b[39;00m \u001b[38;5;28;01mimport\u001b[39;00m \u001b[38;5;241m*\u001b[39m\n\u001b[0;32m    147\u001b[0m \u001b[38;5;28;01mfrom\u001b[39;00m \u001b[38;5;21;01mnltk\u001b[39;00m\u001b[38;5;21;01m.\u001b[39;00m\u001b[38;5;21;01mclassify\u001b[39;00m \u001b[38;5;28;01mimport\u001b[39;00m \u001b[38;5;241m*\u001b[39m\n\u001b[0;32m    148\u001b[0m \u001b[38;5;28;01mfrom\u001b[39;00m \u001b[38;5;21;01mnltk\u001b[39;00m\u001b[38;5;21;01m.\u001b[39;00m\u001b[38;5;21;01minference\u001b[39;00m \u001b[38;5;28;01mimport\u001b[39;00m \u001b[38;5;241m*\u001b[39m\n",
      "File \u001b[1;32m~\\anaconda3\\Lib\\site-packages\\nltk\\chunk\\__init__.py:155\u001b[0m\n\u001b[0;32m      1\u001b[0m \u001b[38;5;66;03m# Natural Language Toolkit: Chunkers\u001b[39;00m\n\u001b[0;32m      2\u001b[0m \u001b[38;5;66;03m#\u001b[39;00m\n\u001b[0;32m      3\u001b[0m \u001b[38;5;66;03m# Copyright (C) 2001-2023 NLTK Project\u001b[39;00m\n\u001b[1;32m   (...)\u001b[0m\n\u001b[0;32m      7\u001b[0m \u001b[38;5;66;03m# For license information, see LICENSE.TXT\u001b[39;00m\n\u001b[0;32m      8\u001b[0m \u001b[38;5;66;03m#\u001b[39;00m\n\u001b[0;32m     10\u001b[0m \u001b[38;5;124;03m\"\"\"\u001b[39;00m\n\u001b[0;32m     11\u001b[0m \u001b[38;5;124;03mClasses and interfaces for identifying non-overlapping linguistic\u001b[39;00m\n\u001b[0;32m     12\u001b[0m \u001b[38;5;124;03mgroups (such as base noun phrases) in unrestricted text.  This task is\u001b[39;00m\n\u001b[1;32m   (...)\u001b[0m\n\u001b[0;32m    152\u001b[0m \u001b[38;5;124;03m     pattern is valid.\u001b[39;00m\n\u001b[0;32m    153\u001b[0m \u001b[38;5;124;03m\"\"\"\u001b[39;00m\n\u001b[1;32m--> 155\u001b[0m \u001b[38;5;28;01mfrom\u001b[39;00m \u001b[38;5;21;01mnltk\u001b[39;00m\u001b[38;5;21;01m.\u001b[39;00m\u001b[38;5;21;01mchunk\u001b[39;00m\u001b[38;5;21;01m.\u001b[39;00m\u001b[38;5;21;01mapi\u001b[39;00m \u001b[38;5;28;01mimport\u001b[39;00m ChunkParserI\n\u001b[0;32m    156\u001b[0m \u001b[38;5;28;01mfrom\u001b[39;00m \u001b[38;5;21;01mnltk\u001b[39;00m\u001b[38;5;21;01m.\u001b[39;00m\u001b[38;5;21;01mchunk\u001b[39;00m\u001b[38;5;21;01m.\u001b[39;00m\u001b[38;5;21;01mregexp\u001b[39;00m \u001b[38;5;28;01mimport\u001b[39;00m RegexpChunkParser, RegexpParser\n\u001b[0;32m    157\u001b[0m \u001b[38;5;28;01mfrom\u001b[39;00m \u001b[38;5;21;01mnltk\u001b[39;00m\u001b[38;5;21;01m.\u001b[39;00m\u001b[38;5;21;01mchunk\u001b[39;00m\u001b[38;5;21;01m.\u001b[39;00m\u001b[38;5;21;01mutil\u001b[39;00m \u001b[38;5;28;01mimport\u001b[39;00m (\n\u001b[0;32m    158\u001b[0m     ChunkScore,\n\u001b[0;32m    159\u001b[0m     accuracy,\n\u001b[1;32m   (...)\u001b[0m\n\u001b[0;32m    165\u001b[0m     tree2conlltags,\n\u001b[0;32m    166\u001b[0m )\n",
      "File \u001b[1;32m~\\anaconda3\\Lib\\site-packages\\nltk\\chunk\\api.py:15\u001b[0m\n\u001b[0;32m     13\u001b[0m \u001b[38;5;28;01mfrom\u001b[39;00m \u001b[38;5;21;01mnltk\u001b[39;00m\u001b[38;5;21;01m.\u001b[39;00m\u001b[38;5;21;01mchunk\u001b[39;00m\u001b[38;5;21;01m.\u001b[39;00m\u001b[38;5;21;01mutil\u001b[39;00m \u001b[38;5;28;01mimport\u001b[39;00m ChunkScore\n\u001b[0;32m     14\u001b[0m \u001b[38;5;28;01mfrom\u001b[39;00m \u001b[38;5;21;01mnltk\u001b[39;00m\u001b[38;5;21;01m.\u001b[39;00m\u001b[38;5;21;01minternals\u001b[39;00m \u001b[38;5;28;01mimport\u001b[39;00m deprecated\n\u001b[1;32m---> 15\u001b[0m \u001b[38;5;28;01mfrom\u001b[39;00m \u001b[38;5;21;01mnltk\u001b[39;00m\u001b[38;5;21;01m.\u001b[39;00m\u001b[38;5;21;01mparse\u001b[39;00m \u001b[38;5;28;01mimport\u001b[39;00m ParserI\n\u001b[0;32m     18\u001b[0m \u001b[38;5;28;01mclass\u001b[39;00m \u001b[38;5;21;01mChunkParserI\u001b[39;00m(ParserI):\n\u001b[0;32m     19\u001b[0m \u001b[38;5;250m    \u001b[39m\u001b[38;5;124;03m\"\"\"\u001b[39;00m\n\u001b[0;32m     20\u001b[0m \u001b[38;5;124;03m    A processing interface for identifying non-overlapping groups in\u001b[39;00m\n\u001b[0;32m     21\u001b[0m \u001b[38;5;124;03m    unrestricted text.  Typically, chunk parsers are used to find base\u001b[39;00m\n\u001b[1;32m   (...)\u001b[0m\n\u001b[0;32m     24\u001b[0m \u001b[38;5;124;03m    will always generate a parse.\u001b[39;00m\n\u001b[0;32m     25\u001b[0m \u001b[38;5;124;03m    \"\"\"\u001b[39;00m\n",
      "File \u001b[1;32m~\\anaconda3\\Lib\\site-packages\\nltk\\parse\\__init__.py:100\u001b[0m\n\u001b[0;32m     95\u001b[0m \u001b[38;5;28;01mfrom\u001b[39;00m \u001b[38;5;21;01mnltk\u001b[39;00m\u001b[38;5;21;01m.\u001b[39;00m\u001b[38;5;21;01mparse\u001b[39;00m\u001b[38;5;21;01m.\u001b[39;00m\u001b[38;5;21;01mrecursivedescent\u001b[39;00m \u001b[38;5;28;01mimport\u001b[39;00m (\n\u001b[0;32m     96\u001b[0m     RecursiveDescentParser,\n\u001b[0;32m     97\u001b[0m     SteppingRecursiveDescentParser,\n\u001b[0;32m     98\u001b[0m )\n\u001b[0;32m     99\u001b[0m \u001b[38;5;28;01mfrom\u001b[39;00m \u001b[38;5;21;01mnltk\u001b[39;00m\u001b[38;5;21;01m.\u001b[39;00m\u001b[38;5;21;01mparse\u001b[39;00m\u001b[38;5;21;01m.\u001b[39;00m\u001b[38;5;21;01mshiftreduce\u001b[39;00m \u001b[38;5;28;01mimport\u001b[39;00m ShiftReduceParser, SteppingShiftReduceParser\n\u001b[1;32m--> 100\u001b[0m \u001b[38;5;28;01mfrom\u001b[39;00m \u001b[38;5;21;01mnltk\u001b[39;00m\u001b[38;5;21;01m.\u001b[39;00m\u001b[38;5;21;01mparse\u001b[39;00m\u001b[38;5;21;01m.\u001b[39;00m\u001b[38;5;21;01mtransitionparser\u001b[39;00m \u001b[38;5;28;01mimport\u001b[39;00m TransitionParser\n\u001b[0;32m    101\u001b[0m \u001b[38;5;28;01mfrom\u001b[39;00m \u001b[38;5;21;01mnltk\u001b[39;00m\u001b[38;5;21;01m.\u001b[39;00m\u001b[38;5;21;01mparse\u001b[39;00m\u001b[38;5;21;01m.\u001b[39;00m\u001b[38;5;21;01mutil\u001b[39;00m \u001b[38;5;28;01mimport\u001b[39;00m TestGrammar, extract_test_sentences, load_parser\n\u001b[0;32m    102\u001b[0m \u001b[38;5;28;01mfrom\u001b[39;00m \u001b[38;5;21;01mnltk\u001b[39;00m\u001b[38;5;21;01m.\u001b[39;00m\u001b[38;5;21;01mparse\u001b[39;00m\u001b[38;5;21;01m.\u001b[39;00m\u001b[38;5;21;01mviterbi\u001b[39;00m \u001b[38;5;28;01mimport\u001b[39;00m ViterbiParser\n",
      "File \u001b[1;32m~\\anaconda3\\Lib\\site-packages\\nltk\\parse\\transitionparser.py:19\u001b[0m\n\u001b[0;32m     17\u001b[0m     \u001b[38;5;28;01mfrom\u001b[39;00m \u001b[38;5;21;01mscipy\u001b[39;00m \u001b[38;5;28;01mimport\u001b[39;00m sparse\n\u001b[0;32m     18\u001b[0m     \u001b[38;5;28;01mfrom\u001b[39;00m \u001b[38;5;21;01msklearn\u001b[39;00m \u001b[38;5;28;01mimport\u001b[39;00m svm\n\u001b[1;32m---> 19\u001b[0m     \u001b[38;5;28;01mfrom\u001b[39;00m \u001b[38;5;21;01msklearn\u001b[39;00m\u001b[38;5;21;01m.\u001b[39;00m\u001b[38;5;21;01mdatasets\u001b[39;00m \u001b[38;5;28;01mimport\u001b[39;00m load_svmlight_file\n\u001b[0;32m     20\u001b[0m \u001b[38;5;28;01mexcept\u001b[39;00m \u001b[38;5;167;01mImportError\u001b[39;00m:\n\u001b[0;32m     21\u001b[0m     \u001b[38;5;28;01mpass\u001b[39;00m\n",
      "File \u001b[1;32m~\\anaconda3\\Lib\\site-packages\\sklearn\\datasets\\__init__.py:8\u001b[0m\n\u001b[0;32m      3\u001b[0m \u001b[38;5;66;03m# Authors: The scikit-learn developers\u001b[39;00m\n\u001b[0;32m      4\u001b[0m \u001b[38;5;66;03m# SPDX-License-Identifier: BSD-3-Clause\u001b[39;00m\n\u001b[0;32m      6\u001b[0m \u001b[38;5;28;01mimport\u001b[39;00m \u001b[38;5;21;01mtextwrap\u001b[39;00m\n\u001b[1;32m----> 8\u001b[0m \u001b[38;5;28;01mfrom\u001b[39;00m \u001b[38;5;21;01m.\u001b[39;00m\u001b[38;5;21;01m_base\u001b[39;00m \u001b[38;5;28;01mimport\u001b[39;00m (\n\u001b[0;32m      9\u001b[0m     clear_data_home,\n\u001b[0;32m     10\u001b[0m     fetch_file,\n\u001b[0;32m     11\u001b[0m     get_data_home,\n\u001b[0;32m     12\u001b[0m     load_breast_cancer,\n\u001b[0;32m     13\u001b[0m     load_diabetes,\n\u001b[0;32m     14\u001b[0m     load_digits,\n\u001b[0;32m     15\u001b[0m     load_files,\n\u001b[0;32m     16\u001b[0m     load_iris,\n\u001b[0;32m     17\u001b[0m     load_linnerud,\n\u001b[0;32m     18\u001b[0m     load_sample_image,\n\u001b[0;32m     19\u001b[0m     load_sample_images,\n\u001b[0;32m     20\u001b[0m     load_wine,\n\u001b[0;32m     21\u001b[0m )\n\u001b[0;32m     22\u001b[0m \u001b[38;5;28;01mfrom\u001b[39;00m \u001b[38;5;21;01m.\u001b[39;00m\u001b[38;5;21;01m_california_housing\u001b[39;00m \u001b[38;5;28;01mimport\u001b[39;00m fetch_california_housing\n\u001b[0;32m     23\u001b[0m \u001b[38;5;28;01mfrom\u001b[39;00m \u001b[38;5;21;01m.\u001b[39;00m\u001b[38;5;21;01m_covtype\u001b[39;00m \u001b[38;5;28;01mimport\u001b[39;00m fetch_covtype\n",
      "File \u001b[1;32m~\\anaconda3\\Lib\\site-packages\\sklearn\\datasets\\_base.py:42\u001b[0m\n\u001b[0;32m     37\u001b[0m IMAGES_MODULE \u001b[38;5;241m=\u001b[39m \u001b[38;5;124m\"\u001b[39m\u001b[38;5;124msklearn.datasets.images\u001b[39m\u001b[38;5;124m\"\u001b[39m\n\u001b[0;32m     39\u001b[0m RemoteFileMetadata \u001b[38;5;241m=\u001b[39m namedtuple(\u001b[38;5;124m\"\u001b[39m\u001b[38;5;124mRemoteFileMetadata\u001b[39m\u001b[38;5;124m\"\u001b[39m, [\u001b[38;5;124m\"\u001b[39m\u001b[38;5;124mfilename\u001b[39m\u001b[38;5;124m\"\u001b[39m, \u001b[38;5;124m\"\u001b[39m\u001b[38;5;124murl\u001b[39m\u001b[38;5;124m\"\u001b[39m, \u001b[38;5;124m\"\u001b[39m\u001b[38;5;124mchecksum\u001b[39m\u001b[38;5;124m\"\u001b[39m])\n\u001b[1;32m---> 42\u001b[0m \u001b[38;5;129m@validate_params\u001b[39m(\n\u001b[0;32m     43\u001b[0m     {\n\u001b[0;32m     44\u001b[0m         \u001b[38;5;124m\"\u001b[39m\u001b[38;5;124mdata_home\u001b[39m\u001b[38;5;124m\"\u001b[39m: [\u001b[38;5;28mstr\u001b[39m, os\u001b[38;5;241m.\u001b[39mPathLike, \u001b[38;5;28;01mNone\u001b[39;00m],\n\u001b[0;32m     45\u001b[0m     },\n\u001b[0;32m     46\u001b[0m     prefer_skip_nested_validation\u001b[38;5;241m=\u001b[39m\u001b[38;5;28;01mTrue\u001b[39;00m,\n\u001b[0;32m     47\u001b[0m )\n\u001b[0;32m     48\u001b[0m \u001b[38;5;28;01mdef\u001b[39;00m \u001b[38;5;21mget_data_home\u001b[39m(data_home\u001b[38;5;241m=\u001b[39m\u001b[38;5;28;01mNone\u001b[39;00m) \u001b[38;5;241m-\u001b[39m\u001b[38;5;241m>\u001b[39m \u001b[38;5;28mstr\u001b[39m:\n\u001b[0;32m     49\u001b[0m \u001b[38;5;250m    \u001b[39m\u001b[38;5;124;03m\"\"\"Return the path of the scikit-learn data directory.\u001b[39;00m\n\u001b[0;32m     50\u001b[0m \n\u001b[0;32m     51\u001b[0m \u001b[38;5;124;03m    This folder is used by some large dataset loaders to avoid downloading the\u001b[39;00m\n\u001b[1;32m   (...)\u001b[0m\n\u001b[0;32m     80\u001b[0m \u001b[38;5;124;03m    True\u001b[39;00m\n\u001b[0;32m     81\u001b[0m \u001b[38;5;124;03m    \"\"\"\u001b[39;00m\n\u001b[0;32m     82\u001b[0m     \u001b[38;5;28;01mif\u001b[39;00m data_home \u001b[38;5;129;01mis\u001b[39;00m \u001b[38;5;28;01mNone\u001b[39;00m:\n",
      "\u001b[1;31mTypeError\u001b[0m: validate_params() got an unexpected keyword argument 'prefer_skip_nested_validation'"
     ]
    }
   ],
   "source": [
    "import pickle\n",
    "from nltk.corpus import stopwords\n",
    "import nltk\n",
    "\n",
    "nltk.download('stopwords')  # Only required once\n",
    "\n",
    "stop_words = stopwords.words('english')\n",
    "\n",
    "# Save to a pickle file\n",
    "with open('stopwords.pkl', 'wb') as f:\n",
    "    pickle.dump(stop_words, f)\n"
   ]
  },
  {
   "cell_type": "code",
   "execution_count": null,
   "id": "f8a80c57",
   "metadata": {},
   "outputs": [],
   "source": []
  }
 ],
 "metadata": {
  "kernelspec": {
   "display_name": "Python 3 (ipykernel)",
   "language": "python",
   "name": "python3"
  },
  "language_info": {
   "codemirror_mode": {
    "name": "ipython",
    "version": 3
   },
   "file_extension": ".py",
   "mimetype": "text/x-python",
   "name": "python",
   "nbconvert_exporter": "python",
   "pygments_lexer": "ipython3",
   "version": "3.11.7"
  }
 },
 "nbformat": 4,
 "nbformat_minor": 5
}
